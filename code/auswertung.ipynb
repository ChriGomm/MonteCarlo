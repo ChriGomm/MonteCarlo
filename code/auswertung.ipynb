{
 "cells": [
  {
   "cell_type": "code",
   "execution_count": 15,
   "metadata": {},
   "outputs": [
    {
     "name": "stdout",
     "output_type": "stream",
     "text": [
      "[0.12038356]\n",
      "[0.40370142]\n",
      "[0.87770263]\n",
      "[0.9565788]\n",
      "[0.42646002]\n",
      "[0.28304326]\n",
      "[0.90094107]\n",
      "[0.83083314]\n",
      "[0.67528993]\n",
      "[0.3977176]\n"
     ]
    },
    {
     "data": {
      "text/plain": [
       "array([5])"
      ]
     },
     "execution_count": 15,
     "metadata": {},
     "output_type": "execute_result"
    }
   ],
   "source": [
    "import numpy as np\n",
    "from numba import njit\n",
    "from numpy.random import Generator, MT19937, SeedSequence\n",
    "sq = SeedSequence(1234)\n",
    "bit_generator = MT19937(sq)\n",
    "gen = Generator(bit_generator)\n",
    "for i in range(10):\n",
    "    print(gen.random(1))\n",
    "gen.integers(low=0,high=6,size=1)"
   ]
  },
  {
   "cell_type": "code",
   "execution_count": 16,
   "metadata": {},
   "outputs": [
    {
     "name": "stdout",
     "output_type": "stream",
     "text": [
      "0.00 secs for 1000000 PCG64 (Numba/PCG64) gaussian randoms\n",
      "0.00 secs for 1000000 PCG64 (NumPy/PCG64) gaussian randoms\n"
     ]
    }
   ],
   "source": [
    "import numpy as np\n",
    "import numba as nb\n",
    "from numpy.random import PCG64\n",
    "from timeit import timeit\n",
    "\n",
    "bit_gen = PCG64()\n",
    "next_d = bit_gen.cffi.next_double\n",
    "state_addr = bit_gen.cffi.state_address\n",
    "\n",
    "def rando(n, state):\n",
    "    out = np.empty(n)\n",
    "    for i in range(n):\n",
    "        out[i]= next_d(state)\n",
    "        \n",
    "    return out\n",
    "\n",
    "# Compile using Numba\n",
    "randoj = nb.jit(rando, nopython=True)\n",
    "# Must use state address not state with numba\n",
    "n = 10**6\n",
    "\n",
    "def numbacall():\n",
    "    return randoj(n, state_addr)\n",
    "\n",
    "rg = np.random.Generator(PCG64())\n",
    "\n",
    "def numpycall():\n",
    "    return rg.random(size=n)\n",
    "\n",
    "# Check that the functions work\n",
    "r1 = numbacall()\n",
    "r2 = numpycall()\n",
    "assert r1.shape == (n,)\n",
    "assert r1.shape == r2.shape\n",
    "\n",
    "t1 = timeit(numbacall, number=1)\n",
    "print(f'{t1:.2f} secs for {n} PCG64 (Numba/PCG64) gaussian randoms')\n",
    "t2 = timeit(numpycall, number=1)\n",
    "print(f'{t2:.2f} secs for {n} PCG64 (NumPy/PCG64) gaussian randoms')\n"
   ]
  },
  {
   "cell_type": "code",
   "execution_count": 82,
   "metadata": {},
   "outputs": [],
   "source": [
    "import numpy as np\n",
    "def correl(func,start,dist):\n",
    "    N = (len(func)-start-dist)\n",
    "    if (dist==0):\n",
    "        return 1/N*np.sum(func[start:]**2)-np.sum(func[start:])**2/N**2\n",
    "    else:\n",
    "        return 1/N*np.sum(func[start:-dist]*func[start+dist:])-np.sum(func[start:-dist])**2/N**2\n",
    "\n",
    "def autocorrel(func,start,dist):\n",
    "    c_0 = correl(func,start,0)\n",
    "    autocorr = 1/2\n",
    "    cor = correl(func,start,1)/c_0\n",
    "    iter =1\n",
    "    while (cor>10**(-4)):\n",
    "        autocorr += cor\n",
    "        iter +=1\n",
    "        cor = correl(func,start,iter)\n",
    "    return autocorr\n",
    "\n",
    "def correl_vec(func,start,comps):\n",
    "    c_0 = correl(func,start,0)\n",
    "    vec =np.zeros(comps)\n",
    "    vec[0] = 1/2\n",
    "    for i in range(1,comps):\n",
    "        vec[i] = correl(func,start,i)/c_0\n",
    "    return vec"
   ]
  },
  {
   "cell_type": "code",
   "execution_count": 19,
   "metadata": {},
   "outputs": [],
   "source": [
    "def bootstrap(sample):\n",
    "    n = len(sample)\n",
    "    btstrp = np.zeros((n*np.log(n)**2))\n",
    "    for i in range(n*np.log(n)**2):\n",
    "        rand = randoj(n,state_addr)\n",
    "        for pos in range(n):\n",
    "            btstrp[pos] = sample[int(100*rand[pos])]\n",
    "    return btstrp\n",
    "\n",
    "def jackkknife(sample,cut_size,):\n",
    "    jack_mat = np.zeros((len(sample)-cut_size+1,len(sample)-cut_size))\n",
    "    for i in range(len(sample)-cut_size+1):\n",
    "        jack_mat[i,0:i]= sample[0:i]\n",
    "        jack_mat[i,i::] = sample[i+cut_size::]\n",
    "    return jack_mat\n",
    "\n",
    "\n",
    "def jack_mean(sample,cut_size):\n",
    "    return np.mean(jackkknife(sample,cut_size),axis=1)\n",
    "\n",
    "def jack_var(sample,cut_size):\n",
    "    return np.std(jack_mean(sample,cut_size))\n",
    "\n",
    "def bootstrap_mean(sample):\n",
    "    mean_mat = np.mean(bootstrap(sample),axis=1)\n",
    "    return np.std(mean_mat)\n",
    "\n",
    "\n"
   ]
  },
  {
   "cell_type": "code",
   "execution_count": 20,
   "metadata": {},
   "outputs": [],
   "source": [
    "def reweighting(beta,beta0,obs,Ham):\n",
    "    return np.sum(obs*np.exp(-(beta-beta0)*Ham))/np.sum(np.exp(-(beta-beta0)*Ham))\n",
    "def error_reweight(beta,beta0,obs,Ham,jack_cut):\n",
    "    obs_jack = jackkknife(obs,jack_cut)\n",
    "    Ham_jack = jackkknife(Ham,jack_cut)\n",
    "    jack_vals = np.zeros(obs_jack.shape[0])\n",
    "    for i in range(obs_jack.shape[0]):\n",
    "        jack_vals[i] = reweighting(beta,beta0,obs_jack[i],Ham_jack[i])\n",
    "    return np.std(jack_vals), np.mean(jack_vals)"
   ]
  },
  {
   "cell_type": "code",
   "execution_count": 8,
   "metadata": {},
   "outputs": [
    {
     "name": "stdout",
     "output_type": "stream",
     "text": [
      "[18, 19, 24, 33]\n"
     ]
    },
    {
     "data": {
      "image/png": "[encoded data removed]",
      "text/plain": [
       "<Figure size 640x480 with 1 Axes>"
      ]
     },
     "metadata": {},
     "output_type": "display_data"
    }
   ],
   "source": [
    "import matplotlib.pyplot as plt\n",
    "start_pos = list(np.array([20,40,30,30,40,50,60,90,90,90,200,200,250,350,600,2000,6000,6000,50000,-1,3000,8000,9500,7000,-1,10000,8500,2500,8000,2500,6000,6000,4000,80000,5200]))\n",
    "\n",
    "beta = list(np.zeros(35))\n",
    "for i in range(30):\n",
    "    beta[i+2]= 0.15 +0.6/30*i\n",
    "for i in range(2):\n",
    "    beta[i] = 0.1+0.04*i\n",
    "for i in range(3):\n",
    "    beta[i+32]= 0.8+ 0.1*i\n",
    "indx = []\n",
    "for i in range(35):\n",
    "    if (start_pos[i]>10000 or start_pos[i]<0):\n",
    "        indx.append(i)\n",
    "print(indx)\n",
    "i =0\n",
    "while (i<len(start_pos)):\n",
    "    if (start_pos[i]>10000 or start_pos[i]<0):\n",
    "        del start_pos[i]\n",
    "        del beta[i]\n",
    "        i -=1\n",
    "    i+=1\n",
    "\n",
    "fig, ax = plt.subplots(1,1)\n",
    "ax.plot(beta,start_pos)\n",
    "plt.show()"
   ]
  },
  {
   "cell_type": "code",
   "execution_count": 10,
   "metadata": {},
   "outputs": [
    {
     "name": "stdout",
     "output_type": "stream",
     "text": [
      "(35, 30002)\n"
     ]
    }
   ],
   "source": [
    "import matplotlib.pyplot as plt\n",
    "import pandas as pd\n",
    "import numpy as np\n",
    "\n",
    "data = pd.read_csv('mag_correl.txt',header= None,sep='\\t')\n",
    "print(data.shape)\n",
    "data = data.to_numpy()"
   ]
  },
  {
   "cell_type": "code",
   "execution_count": 11,
   "metadata": {},
   "outputs": [
    {
     "name": "stdout",
     "output_type": "stream",
     "text": [
      "(4, 300001)\n"
     ]
    }
   ],
   "source": [
    "remeasured_data = pd.read_csv('Mag_store.txt',header= None,sep='\\t')\n",
    "print(remeasured_data.shape)\n",
    "remeasured_data = remeasured_data.to_numpy()"
   ]
  },
  {
   "cell_type": "code",
   "execution_count": 52,
   "metadata": {},
   "outputs": [],
   "source": [
    "data = data/128**2\n",
    "remeasured_data = remeasured_data/128**2"
   ]
  },
  {
   "cell_type": "code",
   "execution_count": 79,
   "metadata": {},
   "outputs": [],
   "source": [
    "with open(\"Mag_store.txt\",\"w\") as file:\n",
    "    for i in range(35):\n",
    "        for j in range(data.shape[1]):\n",
    "            file.write(\"{}\\t\".format(data[i,j]))\n",
    "        file.write(\"\\n\")"
   ]
  },
  {
   "cell_type": "code",
   "execution_count": 84,
   "metadata": {},
   "outputs": [],
   "source": [
    "re_measured_start = np.array([6000,40000,140000,8000])\n",
    "start_pos = np.array(start_pos)\n",
    "components = 2000\n",
    "cor_mat = np.zeros((len(start_pos),components))\n",
    "for i in range(len(start_pos)):\n",
    "    cor_mat[i,:] = correl_vec(data[i,:-2],start_pos[i],components)\n",
    "\n",
    "remeasured_cor = np.zeros((4,components))\n",
    "for i in range(4):\n",
    "    remeasured_cor[i,:] = correl_vec(remeasured_data[i,:],re_measured_start[i],components)\n"
   ]
  },
  {
   "cell_type": "code",
   "execution_count": 83,
   "metadata": {},
   "outputs": [
    {
     "data": {
      "text/plain": [
       "3.391898021044564e-05"
      ]
     },
     "execution_count": 83,
     "metadata": {},
     "output_type": "execute_result"
    }
   ],
   "source": [
    "correl(data[0,:-2],200,0)"
   ]
  },
  {
   "cell_type": "code",
   "execution_count": 198,
   "metadata": {},
   "outputs": [],
   "source": [
    "params = np.zeros(start_pos.shape[0])\n",
    "fit_error = np.zeros(start_pos.shape[0])"
   ]
  },
  {
   "cell_type": "code",
   "execution_count": 188,
   "metadata": {},
   "outputs": [
    {
     "data": {
      "image/png": "[encoded data removed]",
      "text/plain": [
       "<Figure size 640x480 with 1 Axes>"
      ]
     },
     "metadata": {},
     "output_type": "display_data"
    }
   ],
   "source": [
    "dist = np.arange(components)\n",
    "end = 7\n",
    "beta=0\n",
    "fig, ax = plt.subplots(1,1)\n",
    "ax.plot(dist[1:end],cor_mat[beta,1:end])\n",
    "plt.show()"
   ]
  },
  {
   "cell_type": "code",
   "execution_count": 199,
   "metadata": {},
   "outputs": [
    {
     "name": "stdout",
     "output_type": "stream",
     "text": [
      "[2.27503457]\n"
     ]
    },
    {
     "data": {
      "image/png": "[encoded data removed]",
      "text/plain": [
       "<Figure size 640x480 with 1 Axes>"
      ]
     },
     "metadata": {},
     "output_type": "display_data"
    }
   ],
   "source": [
    "end = 4\n",
    "from scipy.optimize import curve_fit\n",
    "def exp_fit(x,b):\n",
    "    return np.exp(-b*x)\n",
    "\n",
    "param, error =curve_fit(f=exp_fit,xdata=dist[1:end],ydata=cor_mat[beta,1:end])\n",
    "print(param)\n",
    "params[beta] = param\n",
    "fit_error[beta] = error\n",
    "steps = np.linspace(0,end)\n",
    "fig, ax = plt.subplots(1,1)\n",
    "ax.scatter(dist[1:end],cor_mat[beta,1:end])\n",
    "ax.plot(steps,exp_fit(steps,param))\n",
    "plt.show()"
   ]
  },
  {
   "cell_type": "code",
   "execution_count": 200,
   "metadata": {},
   "outputs": [
    {
     "data": {
      "text/plain": [
       "22.750345683470083"
      ]
     },
     "execution_count": 200,
     "metadata": {},
     "output_type": "execute_result"
    }
   ],
   "source": [
    "params[0]*10"
   ]
  }
 ],
 "metadata": {
  "kernelspec": {
   "display_name": "Python 3",
   "language": "python",
   "name": "python3"
  },
  "language_info": {
   "codemirror_mode": {
    "name": "ipython",
    "version": 3
   },
   "file_extension": ".py",
   "mimetype": "text/x-python",
   "name": "python",
   "nbconvert_exporter": "python",
   "pygments_lexer": "ipython3",
   "version": "3.10.6"
  },
  "orig_nbformat": 4
 },
 "nbformat": 4,
 "nbformat_minor": 2
}
