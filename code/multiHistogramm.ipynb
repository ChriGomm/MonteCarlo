{
 "cells": [
  {
   "cell_type": "code",
   "execution_count": 2,
   "metadata": {},
   "outputs": [],
   "source": [
    "import pandas as pd\n",
    "import numpy as np\n",
    "mag_wolff = pd.read_csv(\"mag_wolff_L.txt\",header=None,sep=\"\\t\").to_numpy()[:,40000:-3]\n",
    "ham_wolff = pd.read_csv(\"ham_wolff_L.txt\",header=None,sep=\"\\t\").to_numpy()[:,40000:-3]\n",
    "mean_mag_wolff = np.mean(np.abs(mag_wolff[:,:]/128**2),axis=1)"
   ]
  },
  {
   "cell_type": "code",
   "execution_count": 3,
   "metadata": {},
   "outputs": [
    {
     "name": "stdout",
     "output_type": "stream",
     "text": [
      "179998\n"
     ]
    },
    {
     "data": {
      "text/plain": [
       "4580537"
      ]
     },
     "execution_count": 3,
     "metadata": {},
     "output_type": "execute_result"
    }
   ],
   "source": [
    "maxE = np.max(ham_wolff)\n",
    "minE = np.min(ham_wolff)\n",
    "betaNumb = 25\n",
    "numbOfBins = 10000\n",
    "binSize = (maxE-minE)/numbOfBins\n",
    "histE = np.zeros((betaNumb,numbOfBins))\n",
    "magOfE = np.zeros(numbOfBins)\n",
    "test =0\n",
    "for beta in range(betaNumb):\n",
    "    \n",
    "    # maxE = np.max(ham_wolff[beta,:])\n",
    "    # minE = np.min(ham_wolff[beta,:])\n",
    "    # binSize = (maxE-minE)/numbOfBins\n",
    "    \n",
    "    dataB = pd.DataFrame()\n",
    "    dataB['energy'] = ham_wolff[beta,:]\n",
    "    dataB['mag'] = np.abs(mag_wolff[beta,:])\n",
    "    dataB.sort_values(by='energy',axis=0,inplace=True,ignore_index=True)\n",
    "    bin = 0\n",
    "    dataPoint = 0\n",
    "    while (dataPoint < ham_wolff.shape[1]):\n",
    "        test +=1\n",
    "        if (dataB['energy'].loc[dataPoint]<=minE+(bin+1)*binSize):\n",
    "            histE[beta,bin] +=1\n",
    "            magOfE[bin] += dataB['mag'].loc[dataPoint]\n",
    "            dataPoint += 1\n",
    "        else:\n",
    "            bin += 1\n",
    "            \n",
    "        \n",
    "\n",
    "# magOfE = magOfE/np.sum(histE,axis=0)\n",
    "print(dataPoint)\n",
    "test\n"
   ]
  },
  {
   "cell_type": "code",
   "execution_count": 4,
   "metadata": {},
   "outputs": [],
   "source": [
    "autocorrData = pd.read_csv('autocorr.txt',header=None,sep='\\t').to_numpy()\n",
    "autocor = autocorrData[0,:]\n",
    "autocorError = autocorrData[1,:]\n"
   ]
  },
  {
   "cell_type": "code",
   "execution_count": 75,
   "metadata": {},
   "outputs": [
    {
     "name": "stdout",
     "output_type": "stream",
     "text": [
      "0   -30192.0\n",
      "1   -30192.0\n",
      "2   -30192.0\n",
      "3   -30192.0\n",
      "4   -30192.0\n",
      "Name: energy, dtype: float64\n"
     ]
    },
    {
     "data": {
      "text/plain": [
       "-30192.0"
      ]
     },
     "execution_count": 75,
     "metadata": {},
     "output_type": "execute_result"
    }
   ],
   "source": [
    "print(dataB['energy'].head(5))\n",
    "dataB['energy'].loc[ham_wolff.shape[1]-1]\n",
    "minE"
   ]
  },
  {
   "cell_type": "code",
   "execution_count": null,
   "metadata": {},
   "outputs": [],
   "source": [
    "from scipy.special import logsumexp\n",
    "N = ham_wolff.shape[0]\n",
    "def preliminary_n(f):\n",
    "    nE = np.zeros(numbOfBins)\n",
    "    for i in range(numbOfBins):\n",
    "        nE[i] = np.sum(histE[:,i]/autocor)/N/np.exp(logsumexp(a=-beta*(minE+i*binSize)+f,b=1/autocor))\n",
    "    return nE\n",
    "\n",
    "E = np.zeros(numbOfBins)\n",
    "for i in range(numbOfBins):\n",
    "    E[i] = minE + i*binSize\n",
    "\n",
    "def find_rout(f):\n",
    "    func= np.zeros(len(f))\n",
    "    nE = preliminary_n(f)\n",
    "    for bIdx in range(len(f)):\n",
    "        func[bIdx] = np.exp(logsumexp(a=-beta[bIdx]*E,b= nE))-np.exp(-f[bIdx])\n",
    "    return func\n",
    "\n",
    "\n",
    "\n",
    "\n",
    "\n",
    "\n"
   ]
  },
  {
   "cell_type": "code",
   "execution_count": 6,
   "metadata": {},
   "outputs": [
    {
     "data": {
      "image/png": "[encoded data removed]",
      "text/plain": [
       "<Figure size 640x480 with 1 Axes>"
      ]
     },
     "metadata": {},
     "output_type": "display_data"
    }
   ],
   "source": [
    "import matplotlib.pyplot as plt\n",
    "# histE *=ham_wolff.shape[1]\n",
    "start =int(33000/4)\n",
    "end = int(36000/4)\n",
    "fig, ax= plt.subplots(1,1)\n",
    "ax.plot((minE+np.arange(numbOfBins)*binSize)[start:end],histE[2,start:end])\n",
    "# plt.hist(ham_wolff[2,:],bins=200,density=False)\n",
    "plt.show()"
   ]
  },
  {
   "cell_type": "code",
   "execution_count": 9,
   "metadata": {},
   "outputs": [
    {
     "name": "stdout",
     "output_type": "stream",
     "text": [
      "          0         1\n",
      "0  0.532318  0.824516\n",
      "1  0.385834  0.290721\n",
      "2  0.296130  0.174957\n",
      "3  0.777374  0.353448\n",
      "4  0.120552  0.037528\n",
      "5  0.314361  0.085951\n"
     ]
    },
    {
     "data": {
      "text/plain": [
       "0.1205519151589437"
      ]
     },
     "execution_count": 9,
     "metadata": {},
     "output_type": "execute_result"
    }
   ],
   "source": [
    "import numpy as np\n",
    "import pandas as pd\n",
    "data = np.zeros((6,2))\n",
    "for i in range(6):\n",
    "    for j in range(2):\n",
    "        data[i,j] = np.random.rand()\n",
    "data = pd.DataFrame(data)\n",
    "print(data)\n",
    "data.sort_values(by=0,axis=0)\n",
    "dat = pd.DataFrame()\n",
    "dat['energy'] = ham_wolff[0,:]\n",
    "data[0].loc[4]"
   ]
  }
 ],
 "metadata": {
  "kernelspec": {
   "display_name": "Python 3",
   "language": "python",
   "name": "python3"
  },
  "language_info": {
   "codemirror_mode": {
    "name": "ipython",
    "version": 3
   },
   "file_extension": ".py",
   "mimetype": "text/x-python",
   "name": "python",
   "nbconvert_exporter": "python",
   "pygments_lexer": "ipython3",
   "version": "3.10.6"
  },
  "orig_nbformat": 4
 },
 "nbformat": 4,
 "nbformat_minor": 2
}
