{
 "cells": [
  {
   "cell_type": "code",
   "execution_count": 6,
   "metadata": {},
   "outputs": [
    {
     "name": "stdout",
     "output_type": "stream",
     "text": [
      "[0.12038356]\n",
      "[0.40370142]\n",
      "[0.87770263]\n",
      "[0.9565788]\n",
      "[0.42646002]\n",
      "[0.28304326]\n",
      "[0.90094107]\n",
      "[0.83083314]\n",
      "[0.67528993]\n",
      "[0.3977176]\n"
     ]
    },
    {
     "data": {
      "text/plain": [
       "array([5])"
      ]
     },
     "execution_count": 6,
     "metadata": {},
     "output_type": "execute_result"
    }
   ],
   "source": [
    "import numpy as np\n",
    "from numba import njit\n",
    "from numpy.random import Generator, MT19937, SeedSequence\n",
    "sq = SeedSequence(1234)\n",
    "bit_generator = MT19937(sq)\n",
    "gen = Generator(bit_generator)\n",
    "for i in range(10):\n",
    "    print(gen.random(1))\n",
    "gen.integers(low=0,high=6,size=1)"
   ]
  },
  {
   "cell_type": "code",
   "execution_count": 7,
   "metadata": {},
   "outputs": [
    {
     "name": "stdout",
     "output_type": "stream",
     "text": [
      "0.01 secs for 1000000 PCG64 (Numba/PCG64) gaussian randoms\n",
      "0.01 secs for 1000000 PCG64 (NumPy/PCG64) gaussian randoms\n"
     ]
    }
   ],
   "source": [
    "import numpy as np\n",
    "import numba as nb\n",
    "from numpy.random import PCG64\n",
    "from timeit import timeit\n",
    "\n",
    "bit_gen = PCG64()\n",
    "next_d = bit_gen.cffi.next_double\n",
    "state_addr = bit_gen.cffi.state_address\n",
    "\n",
    "def rando(n, state):\n",
    "    out = np.empty(n)\n",
    "    for i in range(n):\n",
    "        out[i]= next_d(state)\n",
    "        \n",
    "    return out\n",
    "\n",
    "# Compile using Numba\n",
    "randoj = nb.jit(rando, nopython=True)\n",
    "# Must use state address not state with numba\n",
    "n = 10**6\n",
    "\n",
    "def numbacall():\n",
    "    return randoj(n, state_addr)\n",
    "\n",
    "rg = np.random.Generator(PCG64())\n",
    "\n",
    "def numpycall():\n",
    "    return rg.random(size=n)\n",
    "\n",
    "# Check that the functions work\n",
    "r1 = numbacall()\n",
    "r2 = numpycall()\n",
    "assert r1.shape == (n,)\n",
    "assert r1.shape == r2.shape\n",
    "\n",
    "t1 = timeit(numbacall, number=1)\n",
    "print(f'{t1:.2f} secs for {n} PCG64 (Numba/PCG64) gaussian randoms')\n",
    "t2 = timeit(numpycall, number=1)\n",
    "print(f'{t2:.2f} secs for {n} PCG64 (NumPy/PCG64) gaussian randoms')\n"
   ]
  },
  {
   "cell_type": "code",
   "execution_count": 5,
   "metadata": {},
   "outputs": [],
   "source": [
    "import numpy as np\n",
    "def correl(func,start,dist):\n",
    "    N = (len(func)-start-dist)\n",
    "    return 1/N*np.sum(func[start:-dist]*func[start+dist::])-np.sum(func[start:-dist]**2)/N\n",
    "\n",
    "def autocorrel(func,start,dist):\n",
    "    c_0 = correl(func,start,0)\n",
    "    autocorr = 1/2\n",
    "    cor = correl(func,start,1)/c_0\n",
    "    iter =1\n",
    "    while (cor>10**(-4)):\n",
    "        autocorr += cor\n",
    "        iter +=1\n",
    "        cor = correl(func,start,iter)\n",
    "    return autocorr\n"
   ]
  },
  {
   "cell_type": "code",
   "execution_count": null,
   "metadata": {},
   "outputs": [],
   "source": [
    "def bootstrap(sample):\n",
    "    n = len(sample)\n",
    "    btstrp = np.zeros((n*np.log(n)**2))\n",
    "    for i in range(n*np.log(n)**2):\n",
    "        rand = randoj(n,state_addr)\n",
    "        for pos in range(n):\n",
    "            btstrp[pos] = sample[int(100*rand[pos])]\n",
    "    return btstrp\n",
    "\n",
    "def jackkknife(sample,cut_size,):\n",
    "    jack_mat = np.zeros((len(sample)-cut_size+1,len(sample)-cut_size))\n",
    "    for i in range(len(sample)-cut_size+1):\n",
    "        jack_mat[i,0:i]= sample[0:i]\n",
    "        jack_mat[i,i::] = sample[i+cut_size::]\n",
    "    return jack_mat\n",
    "\n",
    "\n",
    "def jack_mean(sample,cut_size):\n",
    "    return np.mean(jackkknife(sample,cut_size),axis=1)\n",
    "\n",
    "def jack_var(sample,cut_size):\n",
    "    return np.std(jack_mean(sample,cut_size))\n",
    "\n",
    "def bootstrap_mean(sample):\n",
    "    mean_mat = np.mean(bootstrap(sample),axis=1)\n",
    "    return np.std(mean_mat)\n",
    "\n",
    "\n"
   ]
  }
 ],
 "metadata": {
  "kernelspec": {
   "display_name": "Python 3",
   "language": "python",
   "name": "python3"
  },
  "language_info": {
   "codemirror_mode": {
    "name": "ipython",
    "version": 3
   },
   "file_extension": ".py",
   "mimetype": "text/x-python",
   "name": "python",
   "nbconvert_exporter": "python",
   "pygments_lexer": "ipython3",
   "version": "3.10.6"
  },
  "orig_nbformat": 4
 },
 "nbformat": 4,
 "nbformat_minor": 2
}
