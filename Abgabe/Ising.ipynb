{
 "cells": [
  {
   "cell_type": "code",
   "execution_count": 1,
   "metadata": {},
   "outputs": [
    {
     "data": {
      "text/plain": [
       "0.5518191617571635"
      ]
     },
     "execution_count": 1,
     "metadata": {},
     "output_type": "execute_result"
    }
   ],
   "source": [
    "\n",
    "import numpy as np\n",
    "0.5-np.log(np.sqrt(2*np.pi))\n",
    "3/2/np.e"
   ]
  },
  {
   "cell_type": "markdown",
   "metadata": {},
   "source": [
    "### Aufgabe 1"
   ]
  },
  {
   "cell_type": "code",
   "execution_count": 2,
   "metadata": {},
   "outputs": [
    {
     "data": {
      "image/png": "[encoded data removed]",
      "text/plain": [
       "<Figure size 640x480 with 1 Axes>"
      ]
     },
     "metadata": {},
     "output_type": "display_data"
    },
    {
     "data": {
      "text/plain": [
       "0.9999999998153911"
      ]
     },
     "execution_count": 2,
     "metadata": {},
     "output_type": "execute_result"
    }
   ],
   "source": [
    "# testing which curve can serve as envelope\n",
    "import matplotlib.pyplot as plt\n",
    "x = np.linspace(-3,3)\n",
    "f1 = np.exp(-x**2/2)\n",
    "f2 = np.exp(-np.absolute(x)+0.6)\n",
    "f3 = 2*np.tanh(2*x)/np.cosh(2*x)\n",
    "fig, ax = plt.subplots(1,1)\n",
    "ax.plot(x,f3)\n",
    "ax.plot(x,f2)\n",
    "plt.show()\n",
    "x0 = 0.44068\n",
    "2*np.tanh(2*x0)/np.cosh(2*x0)"
   ]
  },
  {
   "cell_type": "code",
   "execution_count": 20,
   "metadata": {},
   "outputs": [
    {
     "data": {
      "text/plain": [
       "0.00013567456317042925"
      ]
     },
     "execution_count": 20,
     "metadata": {},
     "output_type": "execute_result"
    }
   ],
   "source": [
    "# berechne Gaußintegral über vergleich mit e^x\n",
    "import random\n",
    "N= 10^10000000\n",
    "zähler = []\n",
    "for i in range(N):\n",
    "    y = random.random()\n",
    "    if y < 1/2:\n",
    "        x = np.log(2*y)\n",
    "    else:\n",
    "        x = -np.log(2*(1-y))\n",
    "    z = random.random()*np.exp(-np.abs(x)+0.6)\n",
    "    if z > np.exp(-x**2/2):\n",
    "        pass\n",
    "    else:\n",
    "        zähler.append(1)\n",
    "\n",
    "\n",
    "F = 2*np.exp(0.6)*sum(zähler)/N\n",
    "F-np.sqrt(2*np.pi)"
   ]
  },
  {
   "cell_type": "code",
   "execution_count": 3,
   "metadata": {},
   "outputs": [
    {
     "name": "stdout",
     "output_type": "stream",
     "text": [
      "[-10.91921059 -10.32417582 -10.2458675   -9.59663835  -9.51864366\n",
      "  -9.17059494  -8.81726692  -8.80126887  -8.5216587   -8.35581138]\n",
      "2.5066283040045554\n"
     ]
    },
    {
     "data": {
      "text/plain": [
       "2.9373555143763497e-08"
      ]
     },
     "execution_count": 3,
     "metadata": {},
     "output_type": "execute_result"
    }
   ],
   "source": [
    "# berechne Gauß integral über Treppenfunktion mit Stützstellen gewählt nach Wahrscheinlichkeitverteilung\n",
    "import random\n",
    "N= 10**5\n",
    "werte = []\n",
    "for i in range(N):\n",
    "    y = random.random()\n",
    "    \n",
    "    if y < 1/2:\n",
    "        x = np.log(2*y)\n",
    "    #     z = random.random()*np.exp(-np.abs(x)+0.9)\n",
    "    # elif y >= 1/2/np.e and y < 3/2/np.e:\n",
    "    #     x = (y-1/2/np.e)/(1/2/np.e)\n",
    "    #     z = random.random()*1/2/np.e\n",
    "    else:\n",
    "        x = -np.log(2*(1-y))\n",
    "    z = random.random()*np.exp(-np.abs(x)+0.6)\n",
    "    if z > np.exp(-x**2/2):\n",
    "        pass\n",
    "    else:\n",
    "        werte.append(x)\n",
    "    werte.append(x)\n",
    "\n",
    "werte= np.array(sorted(werte))\n",
    "print(werte[:10])\n",
    "dx = werte[1:]-werte[:-1]\n",
    "# nehme Funktionswert vom Mittelpunkt zwischen den Stützstellen\n",
    "f = (np.exp(-werte[:-1]**2/2)+np.exp(-werte[1:]**2/2))/2\n",
    "F = np.dot(dx,f)\n",
    "\n",
    "\n",
    "\n",
    "print(F)\n",
    "F-np.sqrt(2*np.pi)"
   ]
  },
  {
   "cell_type": "code",
   "execution_count": 17,
   "metadata": {},
   "outputs": [
    {
     "name": "stdout",
     "output_type": "stream",
     "text": [
      "[-10.73797074 -10.27445368 -10.23917844 -10.0716705  -10.01039693\n",
      "  -9.84822746  -9.6300842   -9.49583858  -8.78291169  -8.55263927]\n",
      "2.5066282896313683\n"
     ]
    },
    {
     "data": {
      "text/plain": [
       "1.50003680587929e-08"
      ]
     },
     "execution_count": 17,
     "metadata": {},
     "output_type": "execute_result"
    }
   ],
   "source": [
    "# die Integration funktioniert aber auch mit einer anderen Funktion gut.\n",
    "import random\n",
    "N= 10**5\n",
    "werte = []\n",
    "for i in range(N):\n",
    "    y = random.random()\n",
    "    \n",
    "    if y < 1/4:\n",
    "        x = np.log(4/np.e*y)\n",
    "        z = random.random()*np.exp(-np.abs(x)+0.9)\n",
    "    elif y >= 1/4 and y < 3/4:\n",
    "        x = -1+(y-1/4)/(1/4)\n",
    "        z = random.random()*1/2/np.e\n",
    "    else:\n",
    "        x = -np.log(4/np.e*(1-y))\n",
    "        z = random.random()*np.exp(-np.abs(x)+0.6)\n",
    "    if z > np.abs(x)*np.exp(-x**2/2):\n",
    "        pass\n",
    "    else:\n",
    "        werte.append(x)\n",
    "    werte.append(x)\n",
    "\n",
    "werte= np.array(sorted(werte))\n",
    "print(werte[:10])\n",
    "dx = werte[1:]-werte[:-1]\n",
    "f = (np.exp(-werte[:-1]**2/2)+np.exp(-werte[1:]**2/2))/2\n",
    "F = np.dot(dx,f)\n",
    "\n",
    "\n",
    "\n",
    "print(F)\n",
    "F-np.sqrt(2*np.pi)"
   ]
  },
  {
   "cell_type": "code",
   "execution_count": 28,
   "metadata": {},
   "outputs": [
    {
     "data": {
      "text/plain": [
       "9.167499336371066e-05"
      ]
     },
     "execution_count": 28,
     "metadata": {},
     "output_type": "execute_result"
    }
   ],
   "source": [
    "N = 10**8\n",
    "zähler = []\n",
    "for i in range(N):\n",
    "    x = -1+random.random()*2\n",
    "    y= -1+random.random()*2\n",
    "    if x**2+y**2<=1:\n",
    "        zähler.append(1)\n",
    "\n",
    "sum(zähler)/(N+1)*4-np.pi"
   ]
  }
 ],
 "metadata": {
  "kernelspec": {
   "display_name": "Python 3.9.6 64-bit",
   "language": "python",
   "name": "python3"
  },
  "language_info": {
   "codemirror_mode": {
    "name": "ipython",
    "version": 3
   },
   "file_extension": ".py",
   "mimetype": "text/x-python",
   "name": "python",
   "nbconvert_exporter": "python",
   "pygments_lexer": "ipython3",
   "version": "3.9.6"
  },
  "orig_nbformat": 4,
  "vscode": {
   "interpreter": {
    "hash": "31f2aee4e71d21fbe5cf8b01ff0e069b9275f58929596ceb00d14d90e3e16cd6"
   }
  }
 },
 "nbformat": 4,
 "nbformat_minor": 2
}
